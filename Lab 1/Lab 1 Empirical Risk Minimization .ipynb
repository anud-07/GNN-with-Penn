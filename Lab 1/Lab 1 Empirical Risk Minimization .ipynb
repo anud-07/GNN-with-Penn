{
 "cells": [
  {
   "cell_type": "code",
   "execution_count": 1,
   "id": "dc35057c",
   "metadata": {},
   "outputs": [],
   "source": [
    "import numpy as np\n",
    "import matplotlib.pyplot as plt "
   ]
  },
  {
   "cell_type": "code",
   "execution_count": 2,
   "id": "f38125cf",
   "metadata": {},
   "outputs": [
    {
     "name": "stdout",
     "output_type": "stream",
     "text": [
      "The MSE on the training set is 0.451337\n",
      "The MSE on the unseen set is 0.557538\n",
      "The total energy of the samples is 1.026320\n"
     ]
    }
   ],
   "source": [
    "# 1.1 Learning with Models: Statistical Estimation\n",
    "\n",
    "def SampleGenerator(m,n):\n",
    "    \"\"\"\n",
    "    Output the paramerization A with entries iid bernoulli\n",
    "    \"\"\"\n",
    "    return np.random.binomial(1, 1/(m), (m,n))\n",
    "\n",
    "def InputsGenerator(n):\n",
    "    \"\"\"\n",
    "    Output the random vector from normal distribution\n",
    "    \"\"\"    \n",
    "    return np.random.normal(np.zeros(n), ((np.sqrt(0.5 / n))) * np.ones(n))\n",
    "\n",
    "\n",
    "def TrainingSetGenerator(A,q):\n",
    "    [m,n] = A.shape\n",
    "    X = InputsGenerator(n)\n",
    "    Y = (A @ X + InputsGenerator(m))\n",
    "\n",
    "    for i in range(q - 1):\n",
    "        X = np.column_stack((X, InputsGenerator(n)))\n",
    "        Y = np.column_stack((Y, A @ X[:, -1] + InputsGenerator(m)))\n",
    "\n",
    "    X = X.T\n",
    "    Y = Y.T\n",
    "    return X,Y\n",
    "\n",
    "m = 10**2\n",
    "n = 10**2\n",
    "Q = 10**3\n",
    "A = SampleGenerator(m,n)\n",
    "T_x, T_y = TrainingSetGenerator(A,Q)\n",
    "T_x_prime, T_y_prime = TrainingSetGenerator(A,Q)\n",
    "\n",
    "# optimal solution for the given parametrization\n",
    "H = T_y.T@T_x@np.linalg.inv(T_x.T@T_x)\n",
    "\n",
    "print(\"The MSE on the training set is %f\" % (np.linalg.norm(T_y - T_x@H.T)**2/Q))\n",
    "print(\"The MSE on the unseen set is %f\" % (np.linalg.norm(T_y_prime-T_x_prime@H.T)**2/Q))\n",
    "print(\"The total energy of the samples is %f\" % (np.trace(T_y.T@T_y)/Q))"
   ]
  },
  {
   "cell_type": "code",
   "execution_count": null,
   "id": "c52964d9",
   "metadata": {},
   "outputs": [],
   "source": [
    "# In the second part of the problem (3.2), we are asked to generate data according to the sign data and to learn a linear model.\n",
    "\n",
    "def TrainingSetGenerator(A,q):\n",
    "    [m,n] = A.shape\n",
    "    X = InputsGenerator(n)\n",
    "    Y = (A @ X + InputsGenerator(m))\n",
    "\n",
    "    for i in range(q - 1):\n",
    "        X = np.column_stack((X, InputsGenerator(n)))\n",
    "        Y = np.column_stack((Y, A @ X[:, -1] + InputsGenerator(m)))\n",
    "\n",
    "    X = X.T\n",
    "    Y = np.sign(Y.T)\n",
    "    return X,Y\n",
    "\n",
    "\n",
    "m = 10**2\n",
    "n = 10**2\n",
    "Q = 10**3\n",
    "A = SampleGenerator(m,n)\n",
    "T_x, T_y = TrainingSetGenerator(A,Q)\n",
    "T_x_prime, T_y_prime = TrainingSetGenerator(A,Q)\n",
    "\n",
    "H = T_y.T@T_x@np.linalg.inv(T_x.T@T_x)\n",
    "\n",
    "print(\"The MSE on the training set is %f\" % (np.linalg.norm(T_y - T_x@H.T)**2/Q))\n",
    "print(\"The MSE on the unseen set is %f\" % (np.linalg.norm(T_y_prime - T_x_prime@H.T)**2/Q))\n",
    "print(\"The total energy of the samples is %f\" % (np.trace(T_y.T@T_y)/Q))"
   ]
  },
  {
   "cell_type": "code",
   "execution_count": 3,
   "id": "bd286ef4",
   "metadata": {},
   "outputs": [
    {
     "data": {
      "image/png": "[encoded data removed]",
      "text/plain": [
       "<Figure size 640x480 with 1 Axes>"
      ]
     },
     "metadata": {},
     "output_type": "display_data"
    }
   ],
   "source": [
    "# 4.2 – 4.2   Stochastic Gradient Descent (SGD)\n",
    "\n",
    "def Grad(X,Y,H):\n",
    "    matricial = (1/X.shape[0])*(-Y.T + H@X.T)@(X)\n",
    "    return matricial\n",
    "\n",
    "n = 10**2\n",
    "m = 10**2\n",
    "Q = 10**3\n",
    "\n",
    "b_size = 10  # Batch Size\n",
    "stepsize = 1 # Stepsize, e.g. epsilon\n",
    "\n",
    "A = SampleGenerator(m,n)\n",
    "T_x, T_y = TrainingSetGenerator(A,Q)\n",
    "Test_x, Test_y = TrainingSetGenerator(A,Q)\n",
    "\n",
    "H = np.zeros((m,n))\n",
    "error_train=[]\n",
    "error_test=[]\n",
    "\n",
    "for i in range(Q):\n",
    "    permutation = np.random.permutation(Q) # Get an with the first Q integers in random order\n",
    "    mb_x = np.array([ T_x[index] for index in permutation[0:b_size] ])  # Sub Sample Training Set\n",
    "    mb_y = np.array([ T_y[index] for index in permutation[0:b_size] ])  # Sub Sample Training Set\n",
    "\n",
    "    grad = Grad(mb_x, mb_y,H) # Compute Gradient\n",
    "    H = H - stepsize*grad    # Compute the learning step\n",
    "\n",
    "    error_train = error_train + [np.linalg.norm(T_y.T - H@T_x.T)**2/Q]\n",
    "    error_test = error_test + [np.linalg.norm(Test_y.T - H@Test_x.T)**2/Q]\n",
    "\n",
    "\n",
    "plt.plot(range(len(error_train)),error_train,'*r') #Plot\n",
    "plt.plot(range(len(error_train)),error_test,'*b') #Plot\n",
    "\n",
    "plt.title('MSE using Gradient Descent')\n",
    "plt.xlabel('Iterations')\n",
    "plt.ylabel('MSE')\n",
    "plt.savefig('MSE_computing_grad.pdf', bbox_inches='tight', dpi=150)\n",
    "plt.show()"
   ]
  }
 ],
 "metadata": {
  "kernelspec": {
   "display_name": "Python 3",
   "language": "python",
   "name": "python3"
  },
  "language_info": {
   "codemirror_mode": {
    "name": "ipython",
    "version": 3
   },
   "file_extension": ".py",
   "mimetype": "text/x-python",
   "name": "python",
   "nbconvert_exporter": "python",
   "pygments_lexer": "ipython3",
   "version": "3.8.11"
  }
 },
 "nbformat": 4,
 "nbformat_minor": 5
}
